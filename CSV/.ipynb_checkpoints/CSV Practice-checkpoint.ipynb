{
 "cells": [
  {
   "cell_type": "markdown",
   "id": "2d0c03c9-d797-4d8c-a7c7-0e56b3444c6a",
   "metadata": {},
   "source": [
    "| student1 | student 2| student 3|\n"
   ]
  },
  {
   "cell_type": "markdown",
   "id": "762a3252-00c2-41bb-9c0b-3eeda9dadc78",
   "metadata": {},
   "source": [
    "| student 1| student 2|student3|\n",
    "|----------|----------|--------|\n",
    "|71        |62        |  78    |\n",
    "|65        | 73       | 67     |\n",
    "|78        |65        |82"
   ]
  },
  {
   "cell_type": "code",
   "execution_count": 9,
   "id": "b5b665db-d9ae-4da3-a0e3-ac74144cba8c",
   "metadata": {},
   "outputs": [
    {
     "ename": "SyntaxError",
     "evalue": "invalid syntax (<ipython-input-9-a97d96b519b4>, line 1)",
     "output_type": "error",
     "traceback": [
      "\u001b[0;36m  File \u001b[0;32m\"<ipython-input-9-a97d96b519b4>\"\u001b[0;36m, line \u001b[0;32m1\u001b[0m\n\u001b[0;31m    student 1| student 2| student 3|\u001b[0m\n\u001b[0m            ^\u001b[0m\n\u001b[0;31mSyntaxError\u001b[0m\u001b[0;31m:\u001b[0m invalid syntax\n"
     ]
    }
   ],
   "source": [
    " | student 1| student 2| student 3|\n",
    " |----------|----------|----------|\n",
    " | 71       |62        |78        |\n",
    " |65        |73        |67        |\n",
    " |78        |65        |82        |"
   ]
  },
  {
   "cell_type": "code",
   "execution_count": null,
   "id": "dc3b533d-4a34-4809-b522-48733f08f734",
   "metadata": {},
   "outputs": [],
   "source": [
    "| student 1| student 2|student3|\n",
    "|----------|----------|--------|\n",
    "|71        |62        |  78    |\n",
    "|65        | 73       | 67     |\n",
    "|78        |65        |82"
   ]
  },
  {
   "cell_type": "code",
   "execution_count": 7,
   "id": "29802254-f01d-4466-bbe0-db8c8ffa3048",
   "metadata": {},
   "outputs": [
    {
     "data": {
      "text/plain": [
       "[[71, 62, 78], [65, 73, 67], [78, 65, 82]]"
      ]
     },
     "execution_count": 7,
     "metadata": {},
     "output_type": "execute_result"
    }
   ],
   "source": [
    "scores=[\n",
    "    [71,62,78],\n",
    "    [65,73,67],\n",
    "    [78,65,82]]\n",
    "scores"
   ]
  },
  {
   "cell_type": "code",
   "execution_count": 12,
   "id": "2af58f9b-f3a9-4110-8bf5-850492812231",
   "metadata": {},
   "outputs": [
    {
     "name": "stdout",
     "output_type": "stream",
     "text": [
      "71,62,78\n",
      "65,73,67\n",
      "78,65,82\n"
     ]
    }
   ],
   "source": [
    "scores_csv=\"\"\n",
    "for index,student_marks in enumerate(scores):\n",
    "    csv_line=\",\".join(map(str,student_marks))\n",
    "    scores_csv+=csv_line\n",
    "    if index<(len(scores)-1):\n",
    "        scores_csv+=\"\\n\"\n",
    "print(scores_csv)"
   ]
  },
  {
   "cell_type": "code",
   "execution_count": 14,
   "id": "09c6f668-d967-4acf-888d-bdf778702641",
   "metadata": {},
   "outputs": [],
   "source": [
    "import csv"
   ]
  },
  {
   "cell_type": "code",
   "execution_count": 15,
   "id": "382af247-0b87-410c-8f12-6c68e2bfe0fe",
   "metadata": {},
   "outputs": [],
   "source": [
    "with open (\"scores.csv\",\"w\") as f:\n",
    "    f.write(scores_csv)"
   ]
  },
  {
   "cell_type": "code",
   "execution_count": 22,
   "id": "73d34837-122a-44f8-9664-389a452e070b",
   "metadata": {},
   "outputs": [
    {
     "name": "stdout",
     "output_type": "stream",
     "text": [
      "71,62,78\n",
      "65,73,67\n",
      "78,65,82\n"
     ]
    }
   ],
   "source": [
    "with open (\"scores.csv\") as f:\n",
    "     scores_tu=f.read()\n",
    "print(scores_tu)"
   ]
  },
  {
   "cell_type": "code",
   "execution_count": null,
   "id": "293d337e-1a28-468e-b49c-0a65a8fdae07",
   "metadata": {},
   "outputs": [],
   "source": []
  }
 ],
 "metadata": {
  "kernelspec": {
   "display_name": "Python (learn-env)",
   "language": "python",
   "name": "learn-env"
  },
  "language_info": {
   "codemirror_mode": {
    "name": "ipython",
    "version": 3
   },
   "file_extension": ".py",
   "mimetype": "text/x-python",
   "name": "python",
   "nbconvert_exporter": "python",
   "pygments_lexer": "ipython3",
   "version": "3.8.5"
  }
 },
 "nbformat": 4,
 "nbformat_minor": 5
}
